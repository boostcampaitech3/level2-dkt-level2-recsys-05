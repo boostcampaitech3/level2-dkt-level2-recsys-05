{
 "cells": [
  {
   "cell_type": "code",
   "execution_count": 1,
   "metadata": {},
   "outputs": [],
   "source": [
    "import numpy as np\n",
    "import pandas as pd\n",
    "import matplotlib.pyplot as plt\n",
    "import seaborn as sns; sns.set_theme(color_codes=True)\n",
    "import missingno as msno\n",
    "import os\n",
    "\n",
    "DATA_PATH = '/opt/ml/input/data'"
   ]
  },
  {
   "cell_type": "code",
   "execution_count": 2,
   "metadata": {},
   "outputs": [
    {
     "name": "stdout",
     "output_type": "stream",
     "text": [
      "CPU times: user 4.81 s, sys: 452 ms, total: 5.26 s\n",
      "Wall time: 6.36 s\n"
     ]
    }
   ],
   "source": [
    "%%time\n",
    "dtype = {\n",
    "    'userID': 'int16',\n",
    "    'answerCode': 'int8',\n",
    "    'KnowledgeTag': 'int16'\n",
    "}   \n",
    "\n",
    "train_df = pd.read_csv(os.path.join(DATA_PATH, 'train_data.csv'), dtype=dtype, parse_dates=['Timestamp'])\n",
    "train_df = train_df.sort_values(by=['userID', 'Timestamp']).reset_index(drop=True)\n",
    "\n",
    "test_df = pd.read_csv(os.path.join(DATA_PATH, 'test_data.csv'), dtype=dtype, parse_dates=['Timestamp'])\n",
    "test_df = test_df.sort_values(by=['userID', 'Timestamp']).reset_index(drop=True)"
   ]
  },
  {
   "cell_type": "markdown",
   "metadata": {},
   "source": [
    "+ `userID` 사용자의 고유 번호입니다. 총 7,442명의 학생이 있습니다.   \n",
    "+ `assessmentItemID` 사용자가 푼 문항의 일련 번호입니다.   \n",
    "+ `testId` 사용자가 푼 문항이 포함된 시험지의 일련 번호입니다.   \n",
    "+ `answerCode` 사용자가 푼 문항의 정답 여부를 담고 있는 이진 (0/1) 데이터입니다.   \n",
    "+ `Timestamp` 사용자가 문항을 푼 시간 정보입니다.   \n",
    "+ `KnowledgeTag` 사용자가 푼 문항의 고유 태그가 담겨져 있습니다.\n",
    "\n",
    "train_df와 test_df를 합쳐서 학습 시킬 수 있음!"
   ]
  },
  {
   "cell_type": "markdown",
   "metadata": {},
   "source": [
    "# 검증 전략\n",
    "\n",
    "우리가 예측해야 할 데이터는 결국 유저가 푼 마지막 문제이기 때문에 유저 기준으로 데이터를 나누고 맞춰야 할 부분을 마지막 시퀀스로 두기\n",
    "\n",
    "+ train = 유저 마지막 시퀀스 이전 까지의 모든 문제 풀이\n",
    "+ val - 유저 마지막 시퀀스"
   ]
  },
  {
   "cell_type": "code",
   "execution_count": 3,
   "metadata": {},
   "outputs": [],
   "source": [
    "df = pd.concat([train_df, test_df[test_df['answerCode'] != -1]]).sort_values(by=['userID', 'Timestamp']).reset_index(drop=True)"
   ]
  },
  {
   "cell_type": "code",
   "execution_count": 4,
   "metadata": {},
   "outputs": [],
   "source": [
    "def get_large_paper_number(x):\n",
    "            return x[1:4]\n",
    "        \n",
    "df['large_paper_number'] = df['assessmentItemID'].apply(lambda x : get_large_paper_number(x))\n",
    "\n",
    "# 문제 푸는데 걸린 시간\n",
    "def get_now_elapsed(df):\n",
    "    \n",
    "    diff = df.loc[:, ['userID','Timestamp']].groupby('userID').diff().fillna(pd.Timedelta(seconds=0))\n",
    "    diff = diff.fillna(pd.Timedelta(seconds=0))\n",
    "    diff = diff['Timestamp'].apply(lambda x: x.total_seconds())\n",
    "    df['now_elapsed'] = diff\n",
    "    df['now_elapsed'] = df['now_elapsed'].apply(lambda x : x if x < 650 and x >=0 else 0)\n",
    "    df['now_elapsed'] = df['now_elapsed']\n",
    "\n",
    "    return df\n",
    "\n",
    "df = get_now_elapsed(df = df)\n",
    "\n",
    "# 문항별 정답률\n",
    "df = df.set_index('assessmentItemID')\n",
    "df['assessmentItemID_mean_answerCode'] = df.groupby('assessmentItemID').mean()['answerCode']\n",
    "df = df.reset_index(drop = False)\n",
    "\n",
    "# 문항별 정답률 표준편차\n",
    "df = df.set_index('assessmentItemID')\n",
    "df['assessmentItemID_std_answerCode'] = df.groupby('assessmentItemID').std()['answerCode']\n",
    "df = df.reset_index(drop = False)\n",
    "\n",
    "# 올바르게 푼 사람들의 문항별 풀이 시간 평균\n",
    "df = df.set_index('assessmentItemID')\n",
    "df['assessmentItemID_mean_now_elapsed'] = df[df['answerCode'] == 1].groupby('assessmentItemID').mean()['now_elapsed']\n",
    "df = df.reset_index(drop = False)\n",
    "\n",
    "# 올바르게 푼 사람들의 문항별 풀이 시간 표준 편차\n",
    "df = df.set_index('assessmentItemID')\n",
    "df['assessmentItemID_std_now_elapsed'] = df[df['answerCode'] == 1].groupby('assessmentItemID').std()['now_elapsed']\n",
    "df = df.reset_index(drop = False)\n",
    "\n",
    "# 문제 푼 시간\n",
    "df['hour'] = df['Timestamp'].dt.hour\n",
    "\n",
    "# 문제 푼 요일\n",
    "df['dayofweek'] = df['Timestamp'].dt.dayofweek\n",
    "\n",
    "# 최신 문제 풀이 시간 - 각 문제 풀이 시간 (요거 가지고 데이터 짜르면 될 듯 함)\n",
    "def get_relevance_elapsed(df):\n",
    "    return_df = []\n",
    "    df = df.copy()\n",
    "    group_df = df.groupby('userID')\n",
    "\n",
    "    for userID, g_df in group_df:\n",
    "        last_df = g_df.iloc[-1:, :]\n",
    "        g_df['relevance_elapsed'] = last_df['Timestamp'].values[0] - g_df['Timestamp']\n",
    "        g_df['relevance_elapsed'] = g_df['relevance_elapsed'].dt.days\n",
    "        return_df.append(g_df)\n",
    "\n",
    "    return_df = pd.concat(return_df).sort_values(by=['userID', 'Timestamp']).reset_index(drop=True)\n",
    "    return return_df\n",
    "    \n",
    "df = get_relevance_elapsed(df = df)"
   ]
  },
  {
   "cell_type": "code",
   "execution_count": 19,
   "metadata": {},
   "outputs": [
    {
     "data": {
      "text/plain": [
       "<AxesSubplot:xlabel='now_elapsed', ylabel='Count'>"
      ]
     },
     "execution_count": 19,
     "metadata": {},
     "output_type": "execute_result"
    },
    {
     "data": {
      "image/png": "[encoded data removed]",
      "text/plain": [
       "<Figure size 432x288 with 1 Axes>"
      ]
     },
     "metadata": {},
     "output_type": "display_data"
    }
   ],
   "source": [
    "sns.histplot(df.groupby('assessmentItemID').mean()['now_elapsed'])"
   ]
  },
  {
   "cell_type": "code",
   "execution_count": 14,
   "metadata": {},
   "outputs": [
    {
     "data": {
      "text/plain": [
       "<AxesSubplot:xlabel='now_elapsed', ylabel='Count'>"
      ]
     },
     "execution_count": 14,
     "metadata": {},
     "output_type": "execute_result"
    },
    {
     "data": {
      "image/png": "[encoded data removed]",
      "text/plain": [
       "<Figure size 432x288 with 1 Axes>"
      ]
     },
     "metadata": {},
     "output_type": "display_data"
    }
   ],
   "source": [
    "sns.histplot(df[df['answerCode'] == 1].groupby('assessmentItemID').mean()['now_elapsed'])"
   ]
  },
  {
   "cell_type": "code",
   "execution_count": 15,
   "metadata": {},
   "outputs": [
    {
     "data": {
      "text/plain": [
       "<AxesSubplot:xlabel='now_elapsed', ylabel='Count'>"
      ]
     },
     "execution_count": 15,
     "metadata": {},
     "output_type": "execute_result"
    },
    {
     "data": {
      "image/png": "[encoded data removed]",
      "text/plain": [
       "<Figure size 432x288 with 1 Axes>"
      ]
     },
     "metadata": {},
     "output_type": "display_data"
    }
   ],
   "source": [
    "sns.histplot(df[df['answerCode'] == 0].groupby('assessmentItemID').mean()['now_elapsed'])"
   ]
  },
  {
   "cell_type": "code",
   "execution_count": 6,
   "metadata": {},
   "outputs": [
    {
     "data": {
      "text/plain": [
       "[<matplotlib.lines.Line2D at 0x7f9729ea79a0>]"
      ]
     },
     "execution_count": 6,
     "metadata": {},
     "output_type": "execute_result"
    },
    {
     "data": {
      "image/png": "[encoded data removed]",
      "text/plain": [
       "<Figure size 432x288 with 1 Axes>"
      ]
     },
     "metadata": {},
     "output_type": "display_data"
    }
   ],
   "source": [
    "plt.plot(df.groupby('hour').mean()['answerCode'])"
   ]
  },
  {
   "cell_type": "code",
   "execution_count": 7,
   "metadata": {},
   "outputs": [
    {
     "data": {
      "text/plain": [
       "[<matplotlib.lines.Line2D at 0x7f9721bfc610>]"
      ]
     },
     "execution_count": 7,
     "metadata": {},
     "output_type": "execute_result"
    },
    {
     "data": {
      "image/png": "[encoded data removed]",
      "text/plain": [
       "<Figure size 432x288 with 1 Axes>"
      ]
     },
     "metadata": {},
     "output_type": "display_data"
    }
   ],
   "source": [
    "plt.plot(df.groupby('dayofweek').mean()['answerCode'])"
   ]
  },
  {
   "cell_type": "markdown",
   "metadata": {},
   "source": [
    "# assessmentItemID\n",
    "\n",
    "ABBBBBBCCC\n",
    "\n",
    "+ A는 무조건 알파벳\n",
    "+ B는 시험지 번호\n",
    "+ C는 시험지 내 문항의 번호"
   ]
  },
  {
   "cell_type": "code",
   "execution_count": 4,
   "metadata": {},
   "outputs": [],
   "source": [
    "def get_paper_number(x):\n",
    "    return x[1:-3]\n",
    "\n",
    "def get_paper_question_number(x):\n",
    "    return x[-3:]\n",
    "\n",
    "def get_large_paper_number(x):\n",
    "    return x[1:4]"
   ]
  },
  {
   "cell_type": "code",
   "execution_count": 5,
   "metadata": {},
   "outputs": [],
   "source": [
    "df['paper_number'] = df['assessmentItemID'].apply(lambda x : get_paper_number(x))\n",
    "df['paper_question_number'] = df['assessmentItemID'].apply(lambda x : get_paper_question_number(x))\n",
    "df['large_paper_number'] = df['assessmentItemID'].apply(lambda x : get_large_paper_number(x))"
   ]
  },
  {
   "cell_type": "markdown",
   "metadata": {},
   "source": [
    "# 각 유저별 푼 시험지의 개수\n",
    "\n",
    "사용자마다 푸는 시험지가 다름"
   ]
  },
  {
   "cell_type": "code",
   "execution_count": 8,
   "metadata": {},
   "outputs": [
    {
     "data": {
      "text/plain": [
       "array(['A030071001', 'A030071002', 'A030071003', 'A030071004',\n",
       "       'A030071005'], dtype=object)"
      ]
     },
     "execution_count": 8,
     "metadata": {},
     "output_type": "execute_result"
    }
   ],
   "source": [
    "df[df['testId'] == 'A030000071']['assessmentItemID'].unique()"
   ]
  },
  {
   "cell_type": "code",
   "execution_count": 5,
   "metadata": {},
   "outputs": [
    {
     "data": {
      "text/html": [
       "<div>\n",
       "<style scoped>\n",
       "    .dataframe tbody tr th:only-of-type {\n",
       "        vertical-align: middle;\n",
       "    }\n",
       "\n",
       "    .dataframe tbody tr th {\n",
       "        vertical-align: top;\n",
       "    }\n",
       "\n",
       "    .dataframe thead th {\n",
       "        text-align: right;\n",
       "    }\n",
       "</style>\n",
       "<table border=\"1\" class=\"dataframe\">\n",
       "  <thead>\n",
       "    <tr style=\"text-align: right;\">\n",
       "      <th></th>\n",
       "      <th>userID</th>\n",
       "      <th>assessmentItemID</th>\n",
       "      <th>testId</th>\n",
       "      <th>answerCode</th>\n",
       "      <th>Timestamp</th>\n",
       "      <th>KnowledgeTag</th>\n",
       "    </tr>\n",
       "  </thead>\n",
       "  <tbody>\n",
       "    <tr>\n",
       "      <th>2526691</th>\n",
       "      <td>7441</td>\n",
       "      <td>A030071001</td>\n",
       "      <td>A030000071</td>\n",
       "      <td>0</td>\n",
       "      <td>2020-06-05 06:46:41</td>\n",
       "      <td>438</td>\n",
       "    </tr>\n",
       "    <tr>\n",
       "      <th>2526692</th>\n",
       "      <td>7441</td>\n",
       "      <td>A030071002</td>\n",
       "      <td>A030000071</td>\n",
       "      <td>0</td>\n",
       "      <td>2020-06-05 06:48:43</td>\n",
       "      <td>438</td>\n",
       "    </tr>\n",
       "    <tr>\n",
       "      <th>2526693</th>\n",
       "      <td>7441</td>\n",
       "      <td>A030071003</td>\n",
       "      <td>A030000071</td>\n",
       "      <td>1</td>\n",
       "      <td>2020-06-05 06:49:23</td>\n",
       "      <td>438</td>\n",
       "    </tr>\n",
       "    <tr>\n",
       "      <th>2526694</th>\n",
       "      <td>7441</td>\n",
       "      <td>A030071004</td>\n",
       "      <td>A030000071</td>\n",
       "      <td>0</td>\n",
       "      <td>2020-06-05 06:49:57</td>\n",
       "      <td>438</td>\n",
       "    </tr>\n",
       "    <tr>\n",
       "      <th>2526695</th>\n",
       "      <td>7441</td>\n",
       "      <td>A030071005</td>\n",
       "      <td>A030000071</td>\n",
       "      <td>0</td>\n",
       "      <td>2020-06-05 06:50:21</td>\n",
       "      <td>438</td>\n",
       "    </tr>\n",
       "    <tr>\n",
       "      <th>2526696</th>\n",
       "      <td>7441</td>\n",
       "      <td>A040165001</td>\n",
       "      <td>A040000165</td>\n",
       "      <td>1</td>\n",
       "      <td>2020-08-21 01:06:39</td>\n",
       "      <td>8836</td>\n",
       "    </tr>\n",
       "    <tr>\n",
       "      <th>2526697</th>\n",
       "      <td>7441</td>\n",
       "      <td>A040165002</td>\n",
       "      <td>A040000165</td>\n",
       "      <td>1</td>\n",
       "      <td>2020-08-21 01:06:50</td>\n",
       "      <td>8836</td>\n",
       "    </tr>\n",
       "    <tr>\n",
       "      <th>2526698</th>\n",
       "      <td>7441</td>\n",
       "      <td>A040165003</td>\n",
       "      <td>A040000165</td>\n",
       "      <td>1</td>\n",
       "      <td>2020-08-21 01:07:36</td>\n",
       "      <td>8836</td>\n",
       "    </tr>\n",
       "    <tr>\n",
       "      <th>2526699</th>\n",
       "      <td>7441</td>\n",
       "      <td>A040165004</td>\n",
       "      <td>A040000165</td>\n",
       "      <td>1</td>\n",
       "      <td>2020-08-21 01:08:49</td>\n",
       "      <td>8836</td>\n",
       "    </tr>\n",
       "  </tbody>\n",
       "</table>\n",
       "</div>"
      ],
      "text/plain": [
       "         userID assessmentItemID      testId  answerCode           Timestamp  \\\n",
       "2526691    7441       A030071001  A030000071           0 2020-06-05 06:46:41   \n",
       "2526692    7441       A030071002  A030000071           0 2020-06-05 06:48:43   \n",
       "2526693    7441       A030071003  A030000071           1 2020-06-05 06:49:23   \n",
       "2526694    7441       A030071004  A030000071           0 2020-06-05 06:49:57   \n",
       "2526695    7441       A030071005  A030000071           0 2020-06-05 06:50:21   \n",
       "2526696    7441       A040165001  A040000165           1 2020-08-21 01:06:39   \n",
       "2526697    7441       A040165002  A040000165           1 2020-08-21 01:06:50   \n",
       "2526698    7441       A040165003  A040000165           1 2020-08-21 01:07:36   \n",
       "2526699    7441       A040165004  A040000165           1 2020-08-21 01:08:49   \n",
       "\n",
       "         KnowledgeTag  \n",
       "2526691           438  \n",
       "2526692           438  \n",
       "2526693           438  \n",
       "2526694           438  \n",
       "2526695           438  \n",
       "2526696          8836  \n",
       "2526697          8836  \n",
       "2526698          8836  \n",
       "2526699          8836  "
      ]
     },
     "execution_count": 5,
     "metadata": {},
     "output_type": "execute_result"
    }
   ],
   "source": [
    "df[df['userID'] == 7441]"
   ]
  },
  {
   "cell_type": "code",
   "execution_count": 6,
   "metadata": {},
   "outputs": [
    {
     "data": {
      "text/html": [
       "<div>\n",
       "<style scoped>\n",
       "    .dataframe tbody tr th:only-of-type {\n",
       "        vertical-align: middle;\n",
       "    }\n",
       "\n",
       "    .dataframe tbody tr th {\n",
       "        vertical-align: top;\n",
       "    }\n",
       "\n",
       "    .dataframe thead th {\n",
       "        text-align: right;\n",
       "    }\n",
       "</style>\n",
       "<table border=\"1\" class=\"dataframe\">\n",
       "  <thead>\n",
       "    <tr style=\"text-align: right;\">\n",
       "      <th></th>\n",
       "      <th>userID</th>\n",
       "      <th>assessmentItemID</th>\n",
       "      <th>testId</th>\n",
       "      <th>answerCode</th>\n",
       "      <th>Timestamp</th>\n",
       "      <th>KnowledgeTag</th>\n",
       "    </tr>\n",
       "  </thead>\n",
       "  <tbody>\n",
       "    <tr>\n",
       "      <th>0</th>\n",
       "      <td>3</td>\n",
       "      <td>A050023001</td>\n",
       "      <td>A050000023</td>\n",
       "      <td>1</td>\n",
       "      <td>2020-01-09 10:56:31</td>\n",
       "      <td>2626</td>\n",
       "    </tr>\n",
       "    <tr>\n",
       "      <th>1</th>\n",
       "      <td>3</td>\n",
       "      <td>A050023002</td>\n",
       "      <td>A050000023</td>\n",
       "      <td>1</td>\n",
       "      <td>2020-01-09 10:56:57</td>\n",
       "      <td>2626</td>\n",
       "    </tr>\n",
       "    <tr>\n",
       "      <th>2</th>\n",
       "      <td>3</td>\n",
       "      <td>A050023003</td>\n",
       "      <td>A050000023</td>\n",
       "      <td>0</td>\n",
       "      <td>2020-01-09 10:58:31</td>\n",
       "      <td>2625</td>\n",
       "    </tr>\n",
       "    <tr>\n",
       "      <th>3</th>\n",
       "      <td>3</td>\n",
       "      <td>A050023004</td>\n",
       "      <td>A050000023</td>\n",
       "      <td>0</td>\n",
       "      <td>2020-01-09 10:58:36</td>\n",
       "      <td>2625</td>\n",
       "    </tr>\n",
       "    <tr>\n",
       "      <th>4</th>\n",
       "      <td>3</td>\n",
       "      <td>A050023006</td>\n",
       "      <td>A050000023</td>\n",
       "      <td>0</td>\n",
       "      <td>2020-01-09 10:58:43</td>\n",
       "      <td>2623</td>\n",
       "    </tr>\n",
       "    <tr>\n",
       "      <th>...</th>\n",
       "      <td>...</td>\n",
       "      <td>...</td>\n",
       "      <td>...</td>\n",
       "      <td>...</td>\n",
       "      <td>...</td>\n",
       "      <td>...</td>\n",
       "    </tr>\n",
       "    <tr>\n",
       "      <th>260109</th>\n",
       "      <td>7439</td>\n",
       "      <td>A040130001</td>\n",
       "      <td>A040000130</td>\n",
       "      <td>0</td>\n",
       "      <td>2020-10-14 23:07:23</td>\n",
       "      <td>8832</td>\n",
       "    </tr>\n",
       "    <tr>\n",
       "      <th>260110</th>\n",
       "      <td>7439</td>\n",
       "      <td>A040130002</td>\n",
       "      <td>A040000130</td>\n",
       "      <td>1</td>\n",
       "      <td>2020-10-14 23:07:41</td>\n",
       "      <td>8832</td>\n",
       "    </tr>\n",
       "    <tr>\n",
       "      <th>260111</th>\n",
       "      <td>7439</td>\n",
       "      <td>A040130003</td>\n",
       "      <td>A040000130</td>\n",
       "      <td>1</td>\n",
       "      <td>2020-10-14 23:08:02</td>\n",
       "      <td>8244</td>\n",
       "    </tr>\n",
       "    <tr>\n",
       "      <th>260112</th>\n",
       "      <td>7439</td>\n",
       "      <td>A040130004</td>\n",
       "      <td>A040000130</td>\n",
       "      <td>1</td>\n",
       "      <td>2020-10-14 23:09:31</td>\n",
       "      <td>8244</td>\n",
       "    </tr>\n",
       "    <tr>\n",
       "      <th>260113</th>\n",
       "      <td>7439</td>\n",
       "      <td>A040130005</td>\n",
       "      <td>A040000130</td>\n",
       "      <td>-1</td>\n",
       "      <td>2020-10-14 23:10:03</td>\n",
       "      <td>8832</td>\n",
       "    </tr>\n",
       "  </tbody>\n",
       "</table>\n",
       "<p>260114 rows × 6 columns</p>\n",
       "</div>"
      ],
      "text/plain": [
       "        userID assessmentItemID      testId  answerCode           Timestamp  \\\n",
       "0            3       A050023001  A050000023           1 2020-01-09 10:56:31   \n",
       "1            3       A050023002  A050000023           1 2020-01-09 10:56:57   \n",
       "2            3       A050023003  A050000023           0 2020-01-09 10:58:31   \n",
       "3            3       A050023004  A050000023           0 2020-01-09 10:58:36   \n",
       "4            3       A050023006  A050000023           0 2020-01-09 10:58:43   \n",
       "...        ...              ...         ...         ...                 ...   \n",
       "260109    7439       A040130001  A040000130           0 2020-10-14 23:07:23   \n",
       "260110    7439       A040130002  A040000130           1 2020-10-14 23:07:41   \n",
       "260111    7439       A040130003  A040000130           1 2020-10-14 23:08:02   \n",
       "260112    7439       A040130004  A040000130           1 2020-10-14 23:09:31   \n",
       "260113    7439       A040130005  A040000130          -1 2020-10-14 23:10:03   \n",
       "\n",
       "        KnowledgeTag  \n",
       "0               2626  \n",
       "1               2626  \n",
       "2               2625  \n",
       "3               2625  \n",
       "4               2623  \n",
       "...              ...  \n",
       "260109          8832  \n",
       "260110          8832  \n",
       "260111          8244  \n",
       "260112          8244  \n",
       "260113          8832  \n",
       "\n",
       "[260114 rows x 6 columns]"
      ]
     },
     "execution_count": 6,
     "metadata": {},
     "output_type": "execute_result"
    }
   ],
   "source": [
    "test_df"
   ]
  },
  {
   "cell_type": "code",
   "execution_count": 11,
   "metadata": {},
   "outputs": [
    {
     "data": {
      "text/plain": [
       "count    7442.000000\n",
       "mean       54.714996\n",
       "std        50.853361\n",
       "min         2.000000\n",
       "25%        13.000000\n",
       "50%        39.000000\n",
       "75%        84.000000\n",
       "max       301.000000\n",
       "Name: testId, dtype: float64"
      ]
     },
     "execution_count": 11,
     "metadata": {},
     "output_type": "execute_result"
    }
   ],
   "source": [
    "df.groupby('userID').nunique()['testId'].describe()"
   ]
  },
  {
   "cell_type": "code",
   "execution_count": 8,
   "metadata": {},
   "outputs": [
    {
     "data": {
      "image/png": "[encoded data removed]",
      "text/plain": [
       "<Figure size 432x288 with 1 Axes>"
      ]
     },
     "metadata": {},
     "output_type": "display_data"
    }
   ],
   "source": [
    "sns.histplot(df.groupby('userID').nunique()['testId'])\n",
    "plt.axvline(df.groupby('userID').nunique()['testId'].mean(), color='red')\n",
    "plt.show()"
   ]
  },
  {
   "cell_type": "markdown",
   "metadata": {},
   "source": [
    "# 각 변수별 고유값의 개수"
   ]
  },
  {
   "cell_type": "code",
   "execution_count": 9,
   "metadata": {},
   "outputs": [
    {
     "name": "stdout",
     "output_type": "stream",
     "text": [
      "--- BASIC INFORMATIONS ---\n",
      "userID           : 7442\n",
      "assessmentItemID : 9454\n",
      "testID           : 1537\n",
      "mean answer rate : 65.44%\n",
      "KnowledgeTag     : 912\n",
      "--------------------------\n"
     ]
    }
   ],
   "source": [
    "print(f\"\"\"--- BASIC INFORMATIONS ---\n",
    "userID           : {df.userID.nunique()}\n",
    "assessmentItemID : {df.assessmentItemID.nunique()}\n",
    "testID           : {df.testId.nunique()}\n",
    "mean answer rate : {df[df['answerCode'] != -1].answerCode.sum() / df.shape[0] * 100:.2f}%\n",
    "KnowledgeTag     : {df.KnowledgeTag.nunique()}\n",
    "{'-'*26}\"\"\")"
   ]
  },
  {
   "cell_type": "markdown",
   "metadata": {},
   "source": [
    "# 각 유저별 푼 문항의 개수"
   ]
  },
  {
   "cell_type": "code",
   "execution_count": 10,
   "metadata": {},
   "outputs": [
    {
     "data": {
      "text/html": [
       "<div>\n",
       "<style scoped>\n",
       "    .dataframe tbody tr th:only-of-type {\n",
       "        vertical-align: middle;\n",
       "    }\n",
       "\n",
       "    .dataframe tbody tr th {\n",
       "        vertical-align: top;\n",
       "    }\n",
       "\n",
       "    .dataframe thead th {\n",
       "        text-align: right;\n",
       "    }\n",
       "</style>\n",
       "<table border=\"1\" class=\"dataframe\">\n",
       "  <thead>\n",
       "    <tr style=\"text-align: right;\">\n",
       "      <th></th>\n",
       "      <th>assessmentItemID</th>\n",
       "      <th>answerCode</th>\n",
       "    </tr>\n",
       "  </thead>\n",
       "  <tbody>\n",
       "    <tr>\n",
       "      <th>count</th>\n",
       "      <td>7442.000000</td>\n",
       "      <td>7442.000000</td>\n",
       "    </tr>\n",
       "    <tr>\n",
       "      <th>mean</th>\n",
       "      <td>339.518947</td>\n",
       "      <td>0.627057</td>\n",
       "    </tr>\n",
       "    <tr>\n",
       "      <th>std</th>\n",
       "      <td>321.468413</td>\n",
       "      <td>0.160039</td>\n",
       "    </tr>\n",
       "    <tr>\n",
       "      <th>min</th>\n",
       "      <td>9.000000</td>\n",
       "      <td>0.000000</td>\n",
       "    </tr>\n",
       "    <tr>\n",
       "      <th>25%</th>\n",
       "      <td>78.000000</td>\n",
       "      <td>0.525133</td>\n",
       "    </tr>\n",
       "    <tr>\n",
       "      <th>50%</th>\n",
       "      <td>232.500000</td>\n",
       "      <td>0.650344</td>\n",
       "    </tr>\n",
       "    <tr>\n",
       "      <th>75%</th>\n",
       "      <td>519.000000</td>\n",
       "      <td>0.750000</td>\n",
       "    </tr>\n",
       "    <tr>\n",
       "      <th>max</th>\n",
       "      <td>1860.000000</td>\n",
       "      <td>1.000000</td>\n",
       "    </tr>\n",
       "  </tbody>\n",
       "</table>\n",
       "</div>"
      ],
      "text/plain": [
       "       assessmentItemID   answerCode\n",
       "count       7442.000000  7442.000000\n",
       "mean         339.518947     0.627057\n",
       "std          321.468413     0.160039\n",
       "min            9.000000     0.000000\n",
       "25%           78.000000     0.525133\n",
       "50%          232.500000     0.650344\n",
       "75%          519.000000     0.750000\n",
       "max         1860.000000     1.000000"
      ]
     },
     "execution_count": 10,
     "metadata": {},
     "output_type": "execute_result"
    }
   ],
   "source": [
    "def percentile(s):\n",
    "    return np.sum(s) / len(s)\n",
    "\n",
    "stu_groupby = df.groupby('userID').agg({\n",
    "    'assessmentItemID': 'count',\n",
    "    'answerCode': percentile\n",
    "})\n",
    "stu_groupby.describe()"
   ]
  },
  {
   "cell_type": "code",
   "execution_count": 23,
   "metadata": {},
   "outputs": [
    {
     "name": "stderr",
     "output_type": "stream",
     "text": [
      "/tmp/ipykernel_8613/417151868.py:9: MatplotlibDeprecationWarning: The 'b' parameter of grid() has been renamed 'visible' since Matplotlib 3.5; support for the old name will be dropped two minor releases later.\n",
      "  ax.grid(b=True)\n"
     ]
    },
    {
     "data": {
      "image/png": "[encoded data removed]",
      "text/plain": [
       "<Figure size 432x288 with 1 Axes>"
      ]
     },
     "metadata": {},
     "output_type": "display_data"
    }
   ],
   "source": [
    "fig, ax = plt.subplots()\n",
    "\n",
    "stu_groupby['assessmentItemID'].hist(bins=20, ax=ax)\n",
    "\n",
    "ax.set_title('Student # of items Histogram')\n",
    "ax.set_xlabel('# of items solved')\n",
    "ax.set_ylabel('Count')\n",
    "ax.axvline(stu_groupby['assessmentItemID'].mean(), color='red')\n",
    "ax.grid(b=True)"
   ]
  },
  {
   "cell_type": "markdown",
   "metadata": {},
   "source": [
    "# 사용자 정답률 분포표"
   ]
  },
  {
   "cell_type": "code",
   "execution_count": 24,
   "metadata": {},
   "outputs": [
    {
     "name": "stderr",
     "output_type": "stream",
     "text": [
      "/tmp/ipykernel_8613/1795024208.py:9: MatplotlibDeprecationWarning: The 'b' parameter of grid() has been renamed 'visible' since Matplotlib 3.5; support for the old name will be dropped two minor releases later.\n",
      "  ax.grid(b=True)\n"
     ]
    },
    {
     "data": {
      "image/png": "[encoded data removed]",
      "text/plain": [
       "<Figure size 432x288 with 1 Axes>"
      ]
     },
     "metadata": {},
     "output_type": "display_data"
    }
   ],
   "source": [
    "fig, ax = plt.subplots()\n",
    "\n",
    "stu_groupby['answerCode'].hist(bins=20)\n",
    "\n",
    "ax.set_title('Student Answer Rate Histogram')\n",
    "ax.set_xlabel('Answer Rate')\n",
    "ax.set_ylabel('Count')\n",
    "ax.axvline(stu_groupby['answerCode'].mean(), color='red')\n",
    "ax.grid(b=True)"
   ]
  },
  {
   "cell_type": "markdown",
   "metadata": {},
   "source": [
    "# 시험지별 정답률"
   ]
  },
  {
   "cell_type": "code",
   "execution_count": 13,
   "metadata": {},
   "outputs": [
    {
     "data": {
      "text/plain": [
       "paper_number\n",
       "010001    0.923429\n",
       "010002    0.931429\n",
       "010003    0.842857\n",
       "010004    0.880571\n",
       "010005    0.849143\n",
       "            ...   \n",
       "090070    0.457500\n",
       "090071    0.345000\n",
       "090072    0.453333\n",
       "090073    0.536667\n",
       "090074    0.420000\n",
       "Name: answerCode, Length: 1537, dtype: float64"
      ]
     },
     "execution_count": 13,
     "metadata": {},
     "output_type": "execute_result"
    }
   ],
   "source": [
    "df.groupby('paper_number').mean()['answerCode']"
   ]
  },
  {
   "cell_type": "markdown",
   "metadata": {},
   "source": [
    "# 문항별 정답률"
   ]
  },
  {
   "cell_type": "code",
   "execution_count": 16,
   "metadata": {},
   "outputs": [
    {
     "data": {
      "text/plain": [
       "assessmentItemID\n",
       "A010001001    0.922857\n",
       "A010001002    0.960000\n",
       "A010001003    0.905714\n",
       "A010001004    0.945714\n",
       "A010001005    0.882857\n",
       "                ...   \n",
       "A090074002    0.480000\n",
       "A090074003    0.580000\n",
       "A090074004    0.360000\n",
       "A090074005    0.400000\n",
       "A090074006    0.360000\n",
       "Name: answerCode, Length: 9454, dtype: float64"
      ]
     },
     "execution_count": 16,
     "metadata": {},
     "output_type": "execute_result"
    }
   ],
   "source": [
    "df.groupby('assessmentItemID').mean()['answerCode']"
   ]
  },
  {
   "cell_type": "markdown",
   "metadata": {},
   "source": [
    "# 간단한 데이터 전처리"
   ]
  },
  {
   "cell_type": "code",
   "execution_count": 47,
   "metadata": {},
   "outputs": [],
   "source": [
    "train_df['paper_number'] = train_df['assessmentItemID'].apply(lambda x : get_paper_number(x))\n",
    "train_df['paper_question_number'] = train_df['assessmentItemID'].apply(lambda x : get_paper_question_number(x))\n",
    "train_df['large_paper_number'] = train_df['assessmentItemID'].apply(lambda x : get_large_paper_number(x))\n",
    "\n",
    "test_df['paper_number'] = test_df['assessmentItemID'].apply(lambda x : get_paper_number(x))\n",
    "test_df['paper_question_number'] = test_df['assessmentItemID'].apply(lambda x : get_paper_question_number(x))\n",
    "test_df['large_paper_number'] = test_df['assessmentItemID'].apply(lambda x : get_large_paper_number(x))"
   ]
  },
  {
   "cell_type": "code",
   "execution_count": 48,
   "metadata": {},
   "outputs": [],
   "source": [
    "import random\n",
    "\n",
    "total_user_list = train_df['userID'].unique().tolist()\n",
    "\n",
    "random.seed(22)\n",
    "val_user_list = random.sample(total_user_list, test_df['userID'].nunique())"
   ]
  },
  {
   "cell_type": "code",
   "execution_count": 49,
   "metadata": {},
   "outputs": [],
   "source": [
    "train = []\n",
    "valid = []\n",
    "test = []\n",
    "\n",
    "group_df = train_df.groupby('userID')\n",
    "\n",
    "for userID, df in group_df:\n",
    "    if userID in val_user_list:\n",
    "        trn_df = df.iloc[:-1, :]\n",
    "        val_df = df.iloc[-1:, :]\n",
    "\n",
    "        train.append(trn_df)\n",
    "        valid.append(val_df)\n",
    "    else:\n",
    "        train.append(df)\n",
    "\n",
    "group_df = test_df.groupby('userID')\n",
    "\n",
    "for userID, df in group_df:\n",
    "    trn_df = df.iloc[:-1, :]\n",
    "    te_df = df.iloc[-1:, :]\n",
    "\n",
    "    train.append(trn_df)\n",
    "    test.append(te_df)\n",
    "\n",
    "train = pd.concat(train)\n",
    "valid = pd.concat(valid)\n",
    "test = pd.concat(test)"
   ]
  },
  {
   "cell_type": "markdown",
   "metadata": {},
   "source": [
    "# 문항의 평균 정답률\n",
    "\n",
    "유저의 맞춰야할 문항의 평균 정답률로 해당 값을 예측해본다. 결국 비슷하게 틀리거나 맞지 않았을까? 라는 가정으로"
   ]
  },
  {
   "cell_type": "code",
   "execution_count": 50,
   "metadata": {},
   "outputs": [],
   "source": [
    "taget_assessmentItemID = valid['assessmentItemID'].unique().tolist()\n",
    "assessmentItemID2val = {}\n",
    "\n",
    "for i in train.set_index('assessmentItemID').loc[taget_assessmentItemID, 'answerCode'].reset_index().groupby('assessmentItemID').mean().iloc:\n",
    "    assessmentItemID2val[i.name] = i.answerCode"
   ]
  },
  {
   "cell_type": "code",
   "execution_count": 51,
   "metadata": {},
   "outputs": [],
   "source": [
    "val_target = valid['answerCode'].tolist()\n",
    "val_pred = [assessmentItemID2val[assessmentItemID] for assessmentItemID in valid['assessmentItemID'].tolist()]"
   ]
  },
  {
   "cell_type": "code",
   "execution_count": 52,
   "metadata": {},
   "outputs": [
    {
     "data": {
      "text/plain": [
       "0.7019158473105841"
      ]
     },
     "execution_count": 52,
     "metadata": {},
     "output_type": "execute_result"
    }
   ],
   "source": [
    "from sklearn.metrics import roc_auc_score\n",
    "\n",
    "roc_auc_score(val_target, val_pred)"
   ]
  },
  {
   "cell_type": "code",
   "execution_count": 58,
   "metadata": {},
   "outputs": [],
   "source": [
    "all_df = pd.concat([train, valid])\n",
    "taget_assessmentItemID = test['assessmentItemID'].unique().tolist()\n",
    "assessmentItemID2val = {}\n",
    "\n",
    "for i in all_df.set_index('assessmentItemID').loc[taget_assessmentItemID, 'answerCode'].reset_index().groupby('assessmentItemID').mean().iloc:\n",
    "    assessmentItemID2val[i.name] = i.answerCode"
   ]
  },
  {
   "cell_type": "code",
   "execution_count": 66,
   "metadata": {},
   "outputs": [],
   "source": [
    "submission = pd.DataFrame(data = np.array([assessmentItemID2val[assessmentItemID] for assessmentItemID in test['assessmentItemID'].tolist()]), columns = ['prediction'])\n",
    "submission['id'] = submission.index\n",
    "submission = submission[['id', 'prediction']]\n",
    "submission.to_csv('baseline.csv', index = False)"
   ]
  },
  {
   "cell_type": "markdown",
   "metadata": {},
   "source": [
    "# 간단한 LGBM"
   ]
  },
  {
   "cell_type": "code",
   "execution_count": 24,
   "metadata": {},
   "outputs": [],
   "source": [
    "def get_val2idx(val_list : list) -> dict:\n",
    "    val2idx = {}\n",
    "    for idx, val in enumerate(val_list):\n",
    "        val2idx[val] = idx\n",
    "    \n",
    "    return val2idx\n",
    "\n",
    "all_df = pd.concat([train, valid, test])\n",
    "\n",
    "assessmentItemID2idx = get_val2idx(all_df['assessmentItemID'].unique().tolist())\n",
    "testId2idx = get_val2idx(all_df['testId'].unique().tolist())\n",
    "KnowledgeTag2idx = get_val2idx(all_df['KnowledgeTag'].unique().tolist())\n",
    "large_paper_number2idx = get_val2idx(all_df['large_paper_number'].unique().tolist())\n",
    "\n",
    "train['assessmentItemID2idx'] = train['assessmentItemID'].apply(lambda x : assessmentItemID2idx[x])\n",
    "train['testId2idx'] = train['testId'].apply(lambda x : testId2idx[x])\n",
    "train['KnowledgeTag2idx'] = train['KnowledgeTag'].apply(lambda x : KnowledgeTag2idx[x])\n",
    "train['large_paper_number2idx'] = train['large_paper_number'].apply(lambda x : large_paper_number2idx[x])\n",
    "\n",
    "valid['assessmentItemID2idx'] = valid['assessmentItemID'].apply(lambda x : assessmentItemID2idx[x])\n",
    "valid['testId2idx'] = valid['testId'].apply(lambda x : testId2idx[x])\n",
    "valid['KnowledgeTag2idx'] = valid['KnowledgeTag'].apply(lambda x : KnowledgeTag2idx[x])\n",
    "valid['large_paper_number2idx'] = valid['large_paper_number'].apply(lambda x : large_paper_number2idx[x])\n",
    "\n",
    "test['assessmentItemID2idx'] = test['assessmentItemID'].apply(lambda x : assessmentItemID2idx[x])\n",
    "test['testId2idx'] = test['testId'].apply(lambda x : testId2idx[x])\n",
    "test['KnowledgeTag2idx'] = test['KnowledgeTag'].apply(lambda x : KnowledgeTag2idx[x])\n",
    "test['large_paper_number2idx'] = test['large_paper_number'].apply(lambda x : large_paper_number2idx[x])"
   ]
  },
  {
   "cell_type": "code",
   "execution_count": null,
   "metadata": {},
   "outputs": [],
   "source": [
    "from lightgbm import LGBMClassifier\n",
    "\n",
    "cols = ['userID', 'assessmentItemID2idx', 'testId2idx', 'KnowledgeTag2idx', 'large_paper_number2idx']\n",
    "taget = 'answerCode'\n",
    "\n",
    "model = LGBMClassifier(random_state = 22,  n_estimators= 5000)\n",
    "model.fit(X = train[cols], y = train[taget], eval_set = (valid[cols], valid[taget]), verbose = True, eval_metric='auc')"
   ]
  },
  {
   "cell_type": "code",
   "execution_count": 38,
   "metadata": {},
   "outputs": [
    {
     "data": {
      "text/html": [
       "<div>\n",
       "<style scoped>\n",
       "    .dataframe tbody tr th:only-of-type {\n",
       "        vertical-align: middle;\n",
       "    }\n",
       "\n",
       "    .dataframe tbody tr th {\n",
       "        vertical-align: top;\n",
       "    }\n",
       "\n",
       "    .dataframe thead th {\n",
       "        text-align: right;\n",
       "    }\n",
       "</style>\n",
       "<table border=\"1\" class=\"dataframe\">\n",
       "  <thead>\n",
       "    <tr style=\"text-align: right;\">\n",
       "      <th></th>\n",
       "      <th>0</th>\n",
       "    </tr>\n",
       "  </thead>\n",
       "  <tbody>\n",
       "    <tr>\n",
       "      <th>userID</th>\n",
       "      <td>69793</td>\n",
       "    </tr>\n",
       "    <tr>\n",
       "      <th>assessmentItemID2idx</th>\n",
       "      <td>27440</td>\n",
       "    </tr>\n",
       "    <tr>\n",
       "      <th>testId2idx</th>\n",
       "      <td>14206</td>\n",
       "    </tr>\n",
       "    <tr>\n",
       "      <th>KnowledgeTag2idx</th>\n",
       "      <td>29192</td>\n",
       "    </tr>\n",
       "    <tr>\n",
       "      <th>large_paper_number2idx</th>\n",
       "      <td>9369</td>\n",
       "    </tr>\n",
       "  </tbody>\n",
       "</table>\n",
       "</div>"
      ],
      "text/plain": [
       "                            0\n",
       "userID                  69793\n",
       "assessmentItemID2idx    27440\n",
       "testId2idx              14206\n",
       "KnowledgeTag2idx        29192\n",
       "large_paper_number2idx   9369"
      ]
     },
     "execution_count": 38,
     "metadata": {},
     "output_type": "execute_result"
    }
   ],
   "source": [
    "pd.DataFrame(index = cols, data = model.feature_importances_)"
   ]
  },
  {
   "cell_type": "code",
   "execution_count": 33,
   "metadata": {},
   "outputs": [],
   "source": [
    "val_target = valid['answerCode'].tolist()\n",
    "val_pred = model.predict_proba(valid[cols])[:, 1].tolist()"
   ]
  },
  {
   "cell_type": "code",
   "execution_count": 35,
   "metadata": {},
   "outputs": [
    {
     "data": {
      "text/plain": [
       "0.6875975997686524"
      ]
     },
     "execution_count": 35,
     "metadata": {},
     "output_type": "execute_result"
    }
   ],
   "source": [
    "from sklearn.metrics import roc_auc_score\n",
    "\n",
    "roc_auc_score(val_target, val_pred)"
   ]
  },
  {
   "cell_type": "markdown",
   "metadata": {},
   "source": [
    "# 메트릭 확인"
   ]
  },
  {
   "cell_type": "code",
   "execution_count": 65,
   "metadata": {},
   "outputs": [
    {
     "data": {
      "text/plain": [
       "0.5"
      ]
     },
     "execution_count": 65,
     "metadata": {},
     "output_type": "execute_result"
    }
   ],
   "source": [
    "from sklearn.metrics import roc_auc_score\n",
    "\n",
    "y = [0, 0, 0, 0, 1, 1, 1, 1]\n",
    "y_pred = [0.5, 0.5, 0.5, 0.5, 0.5, 0.5, 0.5, 0.5]\n",
    "\n",
    "roc_auc_score(y, y_pred)"
   ]
  },
  {
   "cell_type": "code",
   "execution_count": 66,
   "metadata": {},
   "outputs": [
    {
     "data": {
      "text/plain": [
       "1.0"
      ]
     },
     "execution_count": 66,
     "metadata": {},
     "output_type": "execute_result"
    }
   ],
   "source": [
    "y = [0, 0, 0, 0, 1, 1, 1, 1]\n",
    "y_pred = [0.4, 0.4, 0.4, 0.4, 0.5, 0.5, 0.5, 0.5]\n",
    "\n",
    "roc_auc_score(y, y_pred)"
   ]
  },
  {
   "cell_type": "code",
   "execution_count": 67,
   "metadata": {},
   "outputs": [
    {
     "data": {
      "text/plain": [
       "1.0"
      ]
     },
     "execution_count": 67,
     "metadata": {},
     "output_type": "execute_result"
    }
   ],
   "source": [
    "y = [0, 0, 0, 0, 1, 1, 1, 1]\n",
    "y_pred = [0.1, 0.1, 0.1, 0.1, 0.11, 0.11, 0.11, 0.11]\n",
    "\n",
    "roc_auc_score(y, y_pred)"
   ]
  },
  {
   "cell_type": "markdown",
   "metadata": {},
   "source": [
    "# 시험지별 평균 정답율"
   ]
  },
  {
   "cell_type": "code",
   "execution_count": 110,
   "metadata": {},
   "outputs": [],
   "source": [
    "testId2mean_val = {}\n",
    "\n",
    "for testId, mean_val in zip(train.groupby('testId').mean()['answerCode'].index, train.groupby('testId').mean()['answerCode'].values):\n",
    "    testId2mean_val[testId] = mean_val"
   ]
  },
  {
   "cell_type": "code",
   "execution_count": 111,
   "metadata": {},
   "outputs": [],
   "source": [
    "from collections import defaultdict\n",
    "\n",
    "high_user_list = defaultdict(list)\n",
    "low_user_list = defaultdict(list)\n",
    "\n",
    "g_df = train.groupby('testId')\n",
    "\n",
    "for testId, df in g_df:\n",
    "    gg_df = df.groupby('userID')\n",
    "    for userID, df in gg_df:\n",
    "        val = df['answerCode'].mean()\n",
    "        if val < testId2mean_val[testId]:\n",
    "            low_user_list[testId] += [userID]\n",
    "        else:\n",
    "            high_user_list[testId] += [userID]"
   ]
  },
  {
   "cell_type": "code",
   "execution_count": null,
   "metadata": {},
   "outputs": [],
   "source": [
    "g_df = all_df.groupby('testId')\n",
    "\n",
    "for testId, df in g_df:\n",
    "    high_user = high_user_list[testId]\n",
    "    low_user = low_user_list[testId]\n",
    "    print(testId)\n",
    "    print(df.set_index('userID').loc[high_user, 'answerCode'].mean())\n",
    "    print(df.set_index('userID').loc[low_user, 'answerCode'].mean())\n",
    "    print()\n"
   ]
  },
  {
   "cell_type": "code",
   "execution_count": 112,
   "metadata": {},
   "outputs": [],
   "source": [
    "val_target = valid['answerCode'].tolist()\n",
    "val_pred = [1.0 if userID in high_user_list[testId] else 0.0 for userID, testId in zip(valid['userID'].tolist(), valid['testId'].tolist())]"
   ]
  },
  {
   "cell_type": "code",
   "execution_count": 113,
   "metadata": {},
   "outputs": [
    {
     "data": {
      "text/plain": [
       "0.6671486408328514"
      ]
     },
     "execution_count": 113,
     "metadata": {},
     "output_type": "execute_result"
    }
   ],
   "source": [
    "from sklearn.metrics import roc_auc_score\n",
    "\n",
    "roc_auc_score(val_target, val_pred)"
   ]
  },
  {
   "cell_type": "code",
   "execution_count": 106,
   "metadata": {},
   "outputs": [],
   "source": [
    "test_pred = [1.0 if userID in high_user_list[testId] else 0.0 for userID, testId in zip(test['userID'].tolist(), test['testId'].tolist())]"
   ]
  },
  {
   "cell_type": "code",
   "execution_count": 107,
   "metadata": {},
   "outputs": [],
   "source": [
    "submission = pd.DataFrame(data = np.array(test_pred), columns = ['prediction'])\n",
    "submission['id'] = submission.index\n",
    "submission = submission[['id', 'prediction']]\n",
    "submission.to_csv('baseline-lower_high.csv', index = False)"
   ]
  },
  {
   "cell_type": "code",
   "execution_count": 108,
   "metadata": {},
   "outputs": [
    {
     "data": {
      "text/html": [
       "<div>\n",
       "<style scoped>\n",
       "    .dataframe tbody tr th:only-of-type {\n",
       "        vertical-align: middle;\n",
       "    }\n",
       "\n",
       "    .dataframe tbody tr th {\n",
       "        vertical-align: top;\n",
       "    }\n",
       "\n",
       "    .dataframe thead th {\n",
       "        text-align: right;\n",
       "    }\n",
       "</style>\n",
       "<table border=\"1\" class=\"dataframe\">\n",
       "  <thead>\n",
       "    <tr style=\"text-align: right;\">\n",
       "      <th></th>\n",
       "      <th>id</th>\n",
       "      <th>prediction</th>\n",
       "    </tr>\n",
       "  </thead>\n",
       "  <tbody>\n",
       "    <tr>\n",
       "      <th>0</th>\n",
       "      <td>0</td>\n",
       "      <td>1.0</td>\n",
       "    </tr>\n",
       "    <tr>\n",
       "      <th>1</th>\n",
       "      <td>1</td>\n",
       "      <td>1.0</td>\n",
       "    </tr>\n",
       "    <tr>\n",
       "      <th>2</th>\n",
       "      <td>2</td>\n",
       "      <td>0.0</td>\n",
       "    </tr>\n",
       "    <tr>\n",
       "      <th>3</th>\n",
       "      <td>3</td>\n",
       "      <td>1.0</td>\n",
       "    </tr>\n",
       "    <tr>\n",
       "      <th>4</th>\n",
       "      <td>4</td>\n",
       "      <td>1.0</td>\n",
       "    </tr>\n",
       "    <tr>\n",
       "      <th>...</th>\n",
       "      <td>...</td>\n",
       "      <td>...</td>\n",
       "    </tr>\n",
       "    <tr>\n",
       "      <th>739</th>\n",
       "      <td>739</td>\n",
       "      <td>0.0</td>\n",
       "    </tr>\n",
       "    <tr>\n",
       "      <th>740</th>\n",
       "      <td>740</td>\n",
       "      <td>0.0</td>\n",
       "    </tr>\n",
       "    <tr>\n",
       "      <th>741</th>\n",
       "      <td>741</td>\n",
       "      <td>0.0</td>\n",
       "    </tr>\n",
       "    <tr>\n",
       "      <th>742</th>\n",
       "      <td>742</td>\n",
       "      <td>0.0</td>\n",
       "    </tr>\n",
       "    <tr>\n",
       "      <th>743</th>\n",
       "      <td>743</td>\n",
       "      <td>1.0</td>\n",
       "    </tr>\n",
       "  </tbody>\n",
       "</table>\n",
       "<p>744 rows × 2 columns</p>\n",
       "</div>"
      ],
      "text/plain": [
       "      id  prediction\n",
       "0      0         1.0\n",
       "1      1         1.0\n",
       "2      2         0.0\n",
       "3      3         1.0\n",
       "4      4         1.0\n",
       "..   ...         ...\n",
       "739  739         0.0\n",
       "740  740         0.0\n",
       "741  741         0.0\n",
       "742  742         0.0\n",
       "743  743         1.0\n",
       "\n",
       "[744 rows x 2 columns]"
      ]
     },
     "execution_count": 108,
     "metadata": {},
     "output_type": "execute_result"
    }
   ],
   "source": [
    "submission"
   ]
  },
  {
   "cell_type": "markdown",
   "metadata": {},
   "source": [
    "# 대체적으로 시험지별 평균 정답율과 마지막 문제와 평균 정답율이 많이 차이나나?"
   ]
  },
  {
   "cell_type": "code",
   "execution_count": 116,
   "metadata": {},
   "outputs": [],
   "source": [
    "assessmentItemID2mean_val = {}\n",
    "testId2mean_val = {}\n",
    "\n",
    "g_df = all_df.groupby('assessmentItemID')\n",
    "\n",
    "for assessmentItemID, df in g_df:\n",
    "    assessmentItemID2mean_val[assessmentItemID] = df['answerCode'].mean()\n",
    "\n",
    "g_df = all_df.groupby('testId')\n",
    "\n",
    "for testId, df in g_df:\n",
    "    testId2mean_val[testId] = df['answerCode'].mean()"
   ]
  },
  {
   "cell_type": "code",
   "execution_count": 120,
   "metadata": {},
   "outputs": [],
   "source": [
    "def get_testId_minus_assessmentItemID(x):\n",
    "    return testId2mean_val[x['testId']] - assessmentItemID2mean_val[x['assessmentItemID']]\n",
    "\n",
    "all_df['testId_minus_assessmentItemID'] = all_df.apply(lambda x : get_testId_minus_assessmentItemID(x), axis = 1)"
   ]
  },
  {
   "cell_type": "code",
   "execution_count": 121,
   "metadata": {},
   "outputs": [
    {
     "data": {
      "text/html": [
       "<div>\n",
       "<style scoped>\n",
       "    .dataframe tbody tr th:only-of-type {\n",
       "        vertical-align: middle;\n",
       "    }\n",
       "\n",
       "    .dataframe tbody tr th {\n",
       "        vertical-align: top;\n",
       "    }\n",
       "\n",
       "    .dataframe thead th {\n",
       "        text-align: right;\n",
       "    }\n",
       "</style>\n",
       "<table border=\"1\" class=\"dataframe\">\n",
       "  <thead>\n",
       "    <tr style=\"text-align: right;\">\n",
       "      <th></th>\n",
       "      <th>userID</th>\n",
       "      <th>assessmentItemID</th>\n",
       "      <th>testId</th>\n",
       "      <th>answerCode</th>\n",
       "      <th>Timestamp</th>\n",
       "      <th>KnowledgeTag</th>\n",
       "      <th>paper_number</th>\n",
       "      <th>paper_question_number</th>\n",
       "      <th>large_paper_number</th>\n",
       "      <th>testId_minus_assessmentItemID</th>\n",
       "    </tr>\n",
       "  </thead>\n",
       "  <tbody>\n",
       "    <tr>\n",
       "      <th>0</th>\n",
       "      <td>0</td>\n",
       "      <td>A060001001</td>\n",
       "      <td>A060000001</td>\n",
       "      <td>1</td>\n",
       "      <td>2020-03-24 00:17:11</td>\n",
       "      <td>7224</td>\n",
       "      <td>060001</td>\n",
       "      <td>001</td>\n",
       "      <td>060</td>\n",
       "      <td>-0.031333</td>\n",
       "    </tr>\n",
       "    <tr>\n",
       "      <th>1</th>\n",
       "      <td>0</td>\n",
       "      <td>A060001002</td>\n",
       "      <td>A060000001</td>\n",
       "      <td>1</td>\n",
       "      <td>2020-03-24 00:17:14</td>\n",
       "      <td>7225</td>\n",
       "      <td>060001</td>\n",
       "      <td>002</td>\n",
       "      <td>060</td>\n",
       "      <td>-0.015333</td>\n",
       "    </tr>\n",
       "    <tr>\n",
       "      <th>2</th>\n",
       "      <td>0</td>\n",
       "      <td>A060001003</td>\n",
       "      <td>A060000001</td>\n",
       "      <td>1</td>\n",
       "      <td>2020-03-24 00:17:22</td>\n",
       "      <td>7225</td>\n",
       "      <td>060001</td>\n",
       "      <td>003</td>\n",
       "      <td>060</td>\n",
       "      <td>0.036667</td>\n",
       "    </tr>\n",
       "    <tr>\n",
       "      <th>3</th>\n",
       "      <td>0</td>\n",
       "      <td>A060001004</td>\n",
       "      <td>A060000001</td>\n",
       "      <td>1</td>\n",
       "      <td>2020-03-24 00:17:29</td>\n",
       "      <td>7225</td>\n",
       "      <td>060001</td>\n",
       "      <td>004</td>\n",
       "      <td>060</td>\n",
       "      <td>-0.019333</td>\n",
       "    </tr>\n",
       "    <tr>\n",
       "      <th>4</th>\n",
       "      <td>0</td>\n",
       "      <td>A060001005</td>\n",
       "      <td>A060000001</td>\n",
       "      <td>1</td>\n",
       "      <td>2020-03-24 00:17:36</td>\n",
       "      <td>7225</td>\n",
       "      <td>060001</td>\n",
       "      <td>005</td>\n",
       "      <td>060</td>\n",
       "      <td>0.004667</td>\n",
       "    </tr>\n",
       "    <tr>\n",
       "      <th>...</th>\n",
       "      <td>...</td>\n",
       "      <td>...</td>\n",
       "      <td>...</td>\n",
       "      <td>...</td>\n",
       "      <td>...</td>\n",
       "      <td>...</td>\n",
       "      <td>...</td>\n",
       "      <td>...</td>\n",
       "      <td>...</td>\n",
       "      <td>...</td>\n",
       "    </tr>\n",
       "    <tr>\n",
       "      <th>2265769</th>\n",
       "      <td>7386</td>\n",
       "      <td>A010155005</td>\n",
       "      <td>A010000155</td>\n",
       "      <td>1</td>\n",
       "      <td>2020-10-21 11:29:20</td>\n",
       "      <td>7804</td>\n",
       "      <td>010155</td>\n",
       "      <td>005</td>\n",
       "      <td>010</td>\n",
       "      <td>0.120734</td>\n",
       "    </tr>\n",
       "    <tr>\n",
       "      <th>2265998</th>\n",
       "      <td>7402</td>\n",
       "      <td>A040142005</td>\n",
       "      <td>A040000142</td>\n",
       "      <td>0</td>\n",
       "      <td>2020-10-17 08:29:47</td>\n",
       "      <td>2111</td>\n",
       "      <td>040142</td>\n",
       "      <td>005</td>\n",
       "      <td>040</td>\n",
       "      <td>0.028663</td>\n",
       "    </tr>\n",
       "    <tr>\n",
       "      <th>2266170</th>\n",
       "      <td>7413</td>\n",
       "      <td>A010192005</td>\n",
       "      <td>A010000192</td>\n",
       "      <td>1</td>\n",
       "      <td>2020-10-15 11:35:09</td>\n",
       "      <td>7075</td>\n",
       "      <td>010192</td>\n",
       "      <td>005</td>\n",
       "      <td>010</td>\n",
       "      <td>0.252539</td>\n",
       "    </tr>\n",
       "    <tr>\n",
       "      <th>2266499</th>\n",
       "      <td>7434</td>\n",
       "      <td>A020163005</td>\n",
       "      <td>A020000163</td>\n",
       "      <td>1</td>\n",
       "      <td>2020-08-27 11:55:04</td>\n",
       "      <td>8132</td>\n",
       "      <td>020163</td>\n",
       "      <td>005</td>\n",
       "      <td>020</td>\n",
       "      <td>-0.091881</td>\n",
       "    </tr>\n",
       "    <tr>\n",
       "      <th>2266561</th>\n",
       "      <td>7438</td>\n",
       "      <td>A030188005</td>\n",
       "      <td>A030000188</td>\n",
       "      <td>1</td>\n",
       "      <td>2020-10-19 10:28:29</td>\n",
       "      <td>1934</td>\n",
       "      <td>030188</td>\n",
       "      <td>005</td>\n",
       "      <td>030</td>\n",
       "      <td>0.215988</td>\n",
       "    </tr>\n",
       "  </tbody>\n",
       "</table>\n",
       "<p>2525956 rows × 10 columns</p>\n",
       "</div>"
      ],
      "text/plain": [
       "         userID assessmentItemID      testId  answerCode           Timestamp  \\\n",
       "0             0       A060001001  A060000001           1 2020-03-24 00:17:11   \n",
       "1             0       A060001002  A060000001           1 2020-03-24 00:17:14   \n",
       "2             0       A060001003  A060000001           1 2020-03-24 00:17:22   \n",
       "3             0       A060001004  A060000001           1 2020-03-24 00:17:29   \n",
       "4             0       A060001005  A060000001           1 2020-03-24 00:17:36   \n",
       "...         ...              ...         ...         ...                 ...   \n",
       "2265769    7386       A010155005  A010000155           1 2020-10-21 11:29:20   \n",
       "2265998    7402       A040142005  A040000142           0 2020-10-17 08:29:47   \n",
       "2266170    7413       A010192005  A010000192           1 2020-10-15 11:35:09   \n",
       "2266499    7434       A020163005  A020000163           1 2020-08-27 11:55:04   \n",
       "2266561    7438       A030188005  A030000188           1 2020-10-19 10:28:29   \n",
       "\n",
       "         KnowledgeTag paper_number paper_question_number large_paper_number  \\\n",
       "0                7224       060001                   001                060   \n",
       "1                7225       060001                   002                060   \n",
       "2                7225       060001                   003                060   \n",
       "3                7225       060001                   004                060   \n",
       "4                7225       060001                   005                060   \n",
       "...               ...          ...                   ...                ...   \n",
       "2265769          7804       010155                   005                010   \n",
       "2265998          2111       040142                   005                040   \n",
       "2266170          7075       010192                   005                010   \n",
       "2266499          8132       020163                   005                020   \n",
       "2266561          1934       030188                   005                030   \n",
       "\n",
       "         testId_minus_assessmentItemID  \n",
       "0                            -0.031333  \n",
       "1                            -0.015333  \n",
       "2                             0.036667  \n",
       "3                            -0.019333  \n",
       "4                             0.004667  \n",
       "...                                ...  \n",
       "2265769                       0.120734  \n",
       "2265998                       0.028663  \n",
       "2266170                       0.252539  \n",
       "2266499                      -0.091881  \n",
       "2266561                       0.215988  \n",
       "\n",
       "[2525956 rows x 10 columns]"
      ]
     },
     "execution_count": 121,
     "metadata": {},
     "output_type": "execute_result"
    }
   ],
   "source": [
    "all_df"
   ]
  },
  {
   "cell_type": "code",
   "execution_count": 130,
   "metadata": {},
   "outputs": [],
   "source": [
    "'''\n",
    "양수는 문항의 평균 정답율이 시험지의 평균 정답율 보다 높음\n",
    "음수는 문항의 평균 정답율이 시험지의 평균 정답률 보다 낮음\n",
    "'''\n",
    "\n",
    "assessmentItemID_and_testId_df = all_df[~all_df.duplicated(subset=['assessmentItemID', 'testId'])].sort_values('assessmentItemID')"
   ]
  },
  {
   "cell_type": "code",
   "execution_count": 136,
   "metadata": {},
   "outputs": [
    {
     "name": "stdout",
     "output_type": "stream",
     "text": [
      "      userID assessmentItemID      testId  answerCode           Timestamp  \\\n",
      "4544       8       A010001001  A010000001           1 2020-03-01 08:36:27   \n",
      "4545       8       A010001002  A010000001           1 2020-03-01 08:37:11   \n",
      "4546       8       A010001003  A010000001           0 2020-03-01 08:37:42   \n",
      "4547       8       A010001004  A010000001           1 2020-03-01 08:38:38   \n",
      "4548       8       A010001005  A010000001           1 2020-03-01 08:39:17   \n",
      "\n",
      "      KnowledgeTag paper_number paper_question_number large_paper_number  \\\n",
      "4544          5844       010001                   001                010   \n",
      "4545          5844       010001                   002                010   \n",
      "4546          5844       010001                   003                010   \n",
      "4547          5844       010001                   004                010   \n",
      "4548          5844       010001                   005                010   \n",
      "\n",
      "      testId_minus_assessmentItemID  \n",
      "4544                       0.000571  \n",
      "4545                      -0.036571  \n",
      "4546                       0.017714  \n",
      "4547                      -0.022286  \n",
      "4548                       0.040571  \n"
     ]
    }
   ],
   "source": [
    "neg_cnt = 0\n",
    "pos_cnt = 0\n",
    "\n",
    "g_df = assessmentItemID_and_testId_df.groupby('testId')\n",
    "\n",
    "for testId, df in g_df:\n",
    "    print(df)\n",
    "    break"
   ]
  },
  {
   "cell_type": "code",
   "execution_count": 137,
   "metadata": {},
   "outputs": [
    {
     "data": {
      "text/html": [
       "<div>\n",
       "<style scoped>\n",
       "    .dataframe tbody tr th:only-of-type {\n",
       "        vertical-align: middle;\n",
       "    }\n",
       "\n",
       "    .dataframe tbody tr th {\n",
       "        vertical-align: top;\n",
       "    }\n",
       "\n",
       "    .dataframe thead th {\n",
       "        text-align: right;\n",
       "    }\n",
       "</style>\n",
       "<table border=\"1\" class=\"dataframe\">\n",
       "  <thead>\n",
       "    <tr style=\"text-align: right;\">\n",
       "      <th></th>\n",
       "      <th>userID</th>\n",
       "      <th>assessmentItemID</th>\n",
       "      <th>testId</th>\n",
       "      <th>answerCode</th>\n",
       "      <th>Timestamp</th>\n",
       "      <th>KnowledgeTag</th>\n",
       "      <th>paper_number</th>\n",
       "      <th>paper_question_number</th>\n",
       "      <th>large_paper_number</th>\n",
       "      <th>testId_minus_assessmentItemID</th>\n",
       "    </tr>\n",
       "  </thead>\n",
       "  <tbody>\n",
       "    <tr>\n",
       "      <th>4544</th>\n",
       "      <td>8</td>\n",
       "      <td>A010001001</td>\n",
       "      <td>A010000001</td>\n",
       "      <td>1</td>\n",
       "      <td>2020-03-01 08:36:27</td>\n",
       "      <td>5844</td>\n",
       "      <td>010001</td>\n",
       "      <td>001</td>\n",
       "      <td>010</td>\n",
       "      <td>0.000571</td>\n",
       "    </tr>\n",
       "    <tr>\n",
       "      <th>4545</th>\n",
       "      <td>8</td>\n",
       "      <td>A010001002</td>\n",
       "      <td>A010000001</td>\n",
       "      <td>1</td>\n",
       "      <td>2020-03-01 08:37:11</td>\n",
       "      <td>5844</td>\n",
       "      <td>010001</td>\n",
       "      <td>002</td>\n",
       "      <td>010</td>\n",
       "      <td>-0.036571</td>\n",
       "    </tr>\n",
       "    <tr>\n",
       "      <th>4546</th>\n",
       "      <td>8</td>\n",
       "      <td>A010001003</td>\n",
       "      <td>A010000001</td>\n",
       "      <td>0</td>\n",
       "      <td>2020-03-01 08:37:42</td>\n",
       "      <td>5844</td>\n",
       "      <td>010001</td>\n",
       "      <td>003</td>\n",
       "      <td>010</td>\n",
       "      <td>0.017714</td>\n",
       "    </tr>\n",
       "    <tr>\n",
       "      <th>4547</th>\n",
       "      <td>8</td>\n",
       "      <td>A010001004</td>\n",
       "      <td>A010000001</td>\n",
       "      <td>1</td>\n",
       "      <td>2020-03-01 08:38:38</td>\n",
       "      <td>5844</td>\n",
       "      <td>010001</td>\n",
       "      <td>004</td>\n",
       "      <td>010</td>\n",
       "      <td>-0.022286</td>\n",
       "    </tr>\n",
       "    <tr>\n",
       "      <th>4548</th>\n",
       "      <td>8</td>\n",
       "      <td>A010001005</td>\n",
       "      <td>A010000001</td>\n",
       "      <td>1</td>\n",
       "      <td>2020-03-01 08:39:17</td>\n",
       "      <td>5844</td>\n",
       "      <td>010001</td>\n",
       "      <td>005</td>\n",
       "      <td>010</td>\n",
       "      <td>0.040571</td>\n",
       "    </tr>\n",
       "  </tbody>\n",
       "</table>\n",
       "</div>"
      ],
      "text/plain": [
       "      userID assessmentItemID      testId  answerCode           Timestamp  \\\n",
       "4544       8       A010001001  A010000001           1 2020-03-01 08:36:27   \n",
       "4545       8       A010001002  A010000001           1 2020-03-01 08:37:11   \n",
       "4546       8       A010001003  A010000001           0 2020-03-01 08:37:42   \n",
       "4547       8       A010001004  A010000001           1 2020-03-01 08:38:38   \n",
       "4548       8       A010001005  A010000001           1 2020-03-01 08:39:17   \n",
       "\n",
       "      KnowledgeTag paper_number paper_question_number large_paper_number  \\\n",
       "4544          5844       010001                   001                010   \n",
       "4545          5844       010001                   002                010   \n",
       "4546          5844       010001                   003                010   \n",
       "4547          5844       010001                   004                010   \n",
       "4548          5844       010001                   005                010   \n",
       "\n",
       "      testId_minus_assessmentItemID  \n",
       "4544                       0.000571  \n",
       "4545                      -0.036571  \n",
       "4546                       0.017714  \n",
       "4547                      -0.022286  \n",
       "4548                       0.040571  "
      ]
     },
     "execution_count": 137,
     "metadata": {},
     "output_type": "execute_result"
    }
   ],
   "source": [
    "df"
   ]
  },
  {
   "cell_type": "code",
   "execution_count": 11,
   "metadata": {},
   "outputs": [
    {
     "data": {
      "text/plain": [
       "[<matplotlib.lines.Line2D at 0x7f6c5047f160>]"
      ]
     },
     "execution_count": 11,
     "metadata": {},
     "output_type": "execute_result"
    },
    {
     "data": {
      "image/png": "[encoded data removed]",
      "text/plain": [
       "<Figure size 432x288 with 1 Axes>"
      ]
     },
     "metadata": {},
     "output_type": "display_data"
    }
   ],
   "source": [
    "plt.plot(np.cos(np.array([i for i in range(24)])))"
   ]
  },
  {
   "cell_type": "code",
   "execution_count": 18,
   "metadata": {},
   "outputs": [
    {
     "data": {
      "text/plain": [
       "<AxesSubplot:xlabel='assessmentItemID', ylabel='Count'>"
      ]
     },
     "execution_count": 18,
     "metadata": {},
     "output_type": "execute_result"
    },
    {
     "data": {
      "image/png": "[encoded data removed]",
      "text/plain": [
       "<Figure size 432x288 with 1 Axes>"
      ]
     },
     "metadata": {},
     "output_type": "display_data"
    }
   ],
   "source": [
    "sns.histplot(df[~df.duplicated(['assessmentItemID'])].groupby('testId').count()['assessmentItemID'])"
   ]
  },
  {
   "cell_type": "markdown",
   "metadata": {},
   "source": [
    "# 문항별 풀이 시간을 기준으로"
   ]
  },
  {
   "cell_type": "code",
   "execution_count": 28,
   "metadata": {},
   "outputs": [
    {
     "name": "stderr",
     "output_type": "stream",
     "text": [
      "100%|██████████| 7442/7442 [00:45<00:00, 162.93it/s]\n"
     ]
    },
    {
     "data": {
      "text/html": [
       "<div>\n",
       "<style scoped>\n",
       "    .dataframe tbody tr th:only-of-type {\n",
       "        vertical-align: middle;\n",
       "    }\n",
       "\n",
       "    .dataframe tbody tr th {\n",
       "        vertical-align: top;\n",
       "    }\n",
       "\n",
       "    .dataframe thead th {\n",
       "        text-align: right;\n",
       "    }\n",
       "</style>\n",
       "<table border=\"1\" class=\"dataframe\">\n",
       "  <thead>\n",
       "    <tr style=\"text-align: right;\">\n",
       "      <th></th>\n",
       "      <th>assessmentItemID</th>\n",
       "      <th>userID</th>\n",
       "      <th>testId</th>\n",
       "      <th>answerCode</th>\n",
       "      <th>Timestamp</th>\n",
       "      <th>KnowledgeTag</th>\n",
       "      <th>diff_Timestamp</th>\n",
       "      <th>diff_Timestamp_total_seconds</th>\n",
       "    </tr>\n",
       "  </thead>\n",
       "  <tbody>\n",
       "    <tr>\n",
       "      <th>0</th>\n",
       "      <td>A060001001</td>\n",
       "      <td>0</td>\n",
       "      <td>A060000001</td>\n",
       "      <td>1</td>\n",
       "      <td>2020-03-24 00:17:11</td>\n",
       "      <td>7224</td>\n",
       "      <td>NaT</td>\n",
       "      <td>NaN</td>\n",
       "    </tr>\n",
       "    <tr>\n",
       "      <th>1</th>\n",
       "      <td>A060001002</td>\n",
       "      <td>0</td>\n",
       "      <td>A060000001</td>\n",
       "      <td>1</td>\n",
       "      <td>2020-03-24 00:17:14</td>\n",
       "      <td>7225</td>\n",
       "      <td>0 days 00:00:03</td>\n",
       "      <td>3.0</td>\n",
       "    </tr>\n",
       "    <tr>\n",
       "      <th>2</th>\n",
       "      <td>A060001003</td>\n",
       "      <td>0</td>\n",
       "      <td>A060000001</td>\n",
       "      <td>1</td>\n",
       "      <td>2020-03-24 00:17:22</td>\n",
       "      <td>7225</td>\n",
       "      <td>0 days 00:00:08</td>\n",
       "      <td>8.0</td>\n",
       "    </tr>\n",
       "    <tr>\n",
       "      <th>3</th>\n",
       "      <td>A060001004</td>\n",
       "      <td>0</td>\n",
       "      <td>A060000001</td>\n",
       "      <td>1</td>\n",
       "      <td>2020-03-24 00:17:29</td>\n",
       "      <td>7225</td>\n",
       "      <td>0 days 00:00:07</td>\n",
       "      <td>7.0</td>\n",
       "    </tr>\n",
       "    <tr>\n",
       "      <th>4</th>\n",
       "      <td>A060001005</td>\n",
       "      <td>0</td>\n",
       "      <td>A060000001</td>\n",
       "      <td>1</td>\n",
       "      <td>2020-03-24 00:17:36</td>\n",
       "      <td>7225</td>\n",
       "      <td>0 days 00:00:07</td>\n",
       "      <td>7.0</td>\n",
       "    </tr>\n",
       "    <tr>\n",
       "      <th>...</th>\n",
       "      <td>...</td>\n",
       "      <td>...</td>\n",
       "      <td>...</td>\n",
       "      <td>...</td>\n",
       "      <td>...</td>\n",
       "      <td>...</td>\n",
       "      <td>...</td>\n",
       "      <td>...</td>\n",
       "    </tr>\n",
       "    <tr>\n",
       "      <th>2526695</th>\n",
       "      <td>A030071005</td>\n",
       "      <td>7441</td>\n",
       "      <td>A030000071</td>\n",
       "      <td>0</td>\n",
       "      <td>2020-06-05 06:50:21</td>\n",
       "      <td>438</td>\n",
       "      <td>0 days 00:00:24</td>\n",
       "      <td>24.0</td>\n",
       "    </tr>\n",
       "    <tr>\n",
       "      <th>2526696</th>\n",
       "      <td>A040165001</td>\n",
       "      <td>7441</td>\n",
       "      <td>A040000165</td>\n",
       "      <td>1</td>\n",
       "      <td>2020-08-21 01:06:39</td>\n",
       "      <td>8836</td>\n",
       "      <td>NaT</td>\n",
       "      <td>NaN</td>\n",
       "    </tr>\n",
       "    <tr>\n",
       "      <th>2526697</th>\n",
       "      <td>A040165002</td>\n",
       "      <td>7441</td>\n",
       "      <td>A040000165</td>\n",
       "      <td>1</td>\n",
       "      <td>2020-08-21 01:06:50</td>\n",
       "      <td>8836</td>\n",
       "      <td>0 days 00:00:11</td>\n",
       "      <td>11.0</td>\n",
       "    </tr>\n",
       "    <tr>\n",
       "      <th>2526698</th>\n",
       "      <td>A040165003</td>\n",
       "      <td>7441</td>\n",
       "      <td>A040000165</td>\n",
       "      <td>1</td>\n",
       "      <td>2020-08-21 01:07:36</td>\n",
       "      <td>8836</td>\n",
       "      <td>0 days 00:00:46</td>\n",
       "      <td>46.0</td>\n",
       "    </tr>\n",
       "    <tr>\n",
       "      <th>2526699</th>\n",
       "      <td>A040165004</td>\n",
       "      <td>7441</td>\n",
       "      <td>A040000165</td>\n",
       "      <td>1</td>\n",
       "      <td>2020-08-21 01:08:49</td>\n",
       "      <td>8836</td>\n",
       "      <td>0 days 00:01:13</td>\n",
       "      <td>73.0</td>\n",
       "    </tr>\n",
       "  </tbody>\n",
       "</table>\n",
       "<p>2526700 rows × 8 columns</p>\n",
       "</div>"
      ],
      "text/plain": [
       "        assessmentItemID  userID      testId  answerCode           Timestamp  \\\n",
       "0             A060001001       0  A060000001           1 2020-03-24 00:17:11   \n",
       "1             A060001002       0  A060000001           1 2020-03-24 00:17:14   \n",
       "2             A060001003       0  A060000001           1 2020-03-24 00:17:22   \n",
       "3             A060001004       0  A060000001           1 2020-03-24 00:17:29   \n",
       "4             A060001005       0  A060000001           1 2020-03-24 00:17:36   \n",
       "...                  ...     ...         ...         ...                 ...   \n",
       "2526695       A030071005    7441  A030000071           0 2020-06-05 06:50:21   \n",
       "2526696       A040165001    7441  A040000165           1 2020-08-21 01:06:39   \n",
       "2526697       A040165002    7441  A040000165           1 2020-08-21 01:06:50   \n",
       "2526698       A040165003    7441  A040000165           1 2020-08-21 01:07:36   \n",
       "2526699       A040165004    7441  A040000165           1 2020-08-21 01:08:49   \n",
       "\n",
       "         KnowledgeTag  diff_Timestamp  diff_Timestamp_total_seconds  \n",
       "0                7224             NaT                           NaN  \n",
       "1                7225 0 days 00:00:03                           3.0  \n",
       "2                7225 0 days 00:00:08                           8.0  \n",
       "3                7225 0 days 00:00:07                           7.0  \n",
       "4                7225 0 days 00:00:07                           7.0  \n",
       "...               ...             ...                           ...  \n",
       "2526695           438 0 days 00:00:24                          24.0  \n",
       "2526696          8836             NaT                           NaN  \n",
       "2526697          8836 0 days 00:00:11                          11.0  \n",
       "2526698          8836 0 days 00:00:46                          46.0  \n",
       "2526699          8836 0 days 00:01:13                          73.0  \n",
       "\n",
       "[2526700 rows x 8 columns]"
      ]
     },
     "execution_count": 28,
     "metadata": {},
     "output_type": "execute_result"
    }
   ],
   "source": [
    "from tqdm import tqdm\n",
    "\n",
    "df['Timestamp'] = pd.to_datetime(df['Timestamp'])\n",
    "df['diff_Timestamp'] = df['Timestamp'] - df.shift(1)['Timestamp']\n",
    "\n",
    "testId_df = df[~df.duplicated(['assessmentItemID'])].groupby('testId')\n",
    "testId2len = {}\n",
    "for testId, g_df in testId_df:\n",
    "    testId2len[testId] = len(g_df)\n",
    "\n",
    "userID_df = df.groupby('userID')\n",
    "start_index_list = []\n",
    "\n",
    "for userID, g_df in tqdm(userID_df):\n",
    "    testId_df = g_df.groupby('testId')\n",
    "    for testId, gg_df in testId_df:\n",
    "        index_list = gg_df.index.tolist()\n",
    "        start_index = 0\n",
    "        if len(gg_df) <= testId2len[testId]:\n",
    "            start_index_list += [index_list[start_index]]\n",
    "        else:\n",
    "            div = len(gg_df) // testId2len[testId]\n",
    "            for _ in range(div):\n",
    "                start_index_list += [index_list[start_index]]\n",
    "                start_index += testId2len[testId]\n",
    "\n",
    "df.loc[start_index_list, 'diff_Timestamp'] = np.nan\n",
    "df['diff_Timestamp_total_seconds'] = df['diff_Timestamp'].apply(lambda x: x.total_seconds() if not pd.isna(x) else np.nan)\n",
    "df"
   ]
  },
  {
   "cell_type": "code",
   "execution_count": 77,
   "metadata": {},
   "outputs": [],
   "source": [
    "a = df[~(df['diff_Timestamp_total_seconds'].isna())]\n",
    "a = a[a['answerCode'] != -1]"
   ]
  },
  {
   "cell_type": "code",
   "execution_count": 78,
   "metadata": {},
   "outputs": [],
   "source": [
    "assessmentItemID2diff_Timestamp_total_seconds = {}\n",
    "\n",
    "assessmentItemID_df = a.groupby('assessmentItemID')\n",
    "for assessmentItemID, g_df in assessmentItemID_df:\n",
    "    assessmentItemID2diff_Timestamp_total_seconds[assessmentItemID] = g_df['diff_Timestamp_total_seconds'].quantile(0.25)"
   ]
  },
  {
   "cell_type": "code",
   "execution_count": 79,
   "metadata": {},
   "outputs": [],
   "source": [
    "def get_bi(x):\n",
    "    # quantile(0.25) 보다 풀이 시간이 긴 사람\n",
    "    if assessmentItemID2diff_Timestamp_total_seconds[x['assessmentItemID']] < x['diff_Timestamp_total_seconds']:\n",
    "        return 1\n",
    "    # quantile(0.25) 보다 풀이 시간이 짧거나 같은 사람\n",
    "    else:\n",
    "        return 0\n",
    "\n",
    "a['target'] = a.apply(lambda x : get_bi(x), axis = 1)"
   ]
  },
  {
   "cell_type": "code",
   "execution_count": 80,
   "metadata": {},
   "outputs": [
    {
     "data": {
      "text/plain": [
       "<AxesSubplot:xlabel='target', ylabel='count'>"
      ]
     },
     "execution_count": 80,
     "metadata": {},
     "output_type": "execute_result"
    },
    {
     "data": {
      "image/png": "[encoded data removed]",
      "text/plain": [
       "<Figure size 432x288 with 1 Axes>"
      ]
     },
     "metadata": {},
     "output_type": "display_data"
    }
   ],
   "source": [
    "sns.countplot(data = a, x = 'target', hue = 'answerCode')"
   ]
  },
  {
   "cell_type": "markdown",
   "metadata": {},
   "source": [
    "# 킬러 문제를 푼 사람과 풀지 못한 사람의 정답률 차이"
   ]
  },
  {
   "cell_type": "code",
   "execution_count": 83,
   "metadata": {},
   "outputs": [
    {
     "name": "stderr",
     "output_type": "stream",
     "text": [
      "100%|██████████| 1537/1537 [05:15<00:00,  4.88it/s]\n"
     ]
    }
   ],
   "source": [
    "from tqdm import tqdm\n",
    "\n",
    "testId2assessmentItemID_mean = {}\n",
    "\n",
    "kill_answer = 0\n",
    "kill_answer_user = 0\n",
    "kill_not_answer = 0\n",
    "kill_not_answer_user = 0\n",
    "\n",
    "two_user = 0\n",
    "\n",
    "a = df[df['answerCode'] != -1]\n",
    "\n",
    "testId_g_df = a.groupby('testId')\n",
    "for testId, g in tqdm(testId_g_df):\n",
    "    kill = g.groupby('assessmentItemID').mean().sort_values('answerCode').index.tolist()[0]\n",
    "    userID_g_df = g.groupby('userID')\n",
    "    for userID, gg in userID_g_df:\n",
    "        try:\n",
    "            if gg.set_index('assessmentItemID').loc[kill, 'answerCode'] == 1:\n",
    "                kill_answer += gg['answerCode'].mean()\n",
    "                kill_answer_user += 1\n",
    "            else:\n",
    "                kill_not_answer += gg['answerCode'].mean()\n",
    "                kill_not_answer_user += 1\n",
    "        # 해당 문제를 2개 푼 사람이 존재함\n",
    "        except:\n",
    "            two_user += 1\n"
   ]
  },
  {
   "cell_type": "code",
   "execution_count": 47,
   "metadata": {},
   "outputs": [
    {
     "data": {
      "text/plain": [
       "0.8809003532175123"
      ]
     },
     "execution_count": 47,
     "metadata": {},
     "output_type": "execute_result"
    }
   ],
   "source": [
    "kill_answer / kill_answer_user"
   ]
  },
  {
   "cell_type": "code",
   "execution_count": 48,
   "metadata": {},
   "outputs": [
    {
     "data": {
      "text/plain": [
       "0.4819674490344422"
      ]
     },
     "execution_count": 48,
     "metadata": {},
     "output_type": "execute_result"
    }
   ],
   "source": [
    "kill_not_answer / kill_not_answer_user"
   ]
  },
  {
   "cell_type": "code",
   "execution_count": 50,
   "metadata": {},
   "outputs": [
    {
     "data": {
      "text/plain": [
       "186911"
      ]
     },
     "execution_count": 50,
     "metadata": {},
     "output_type": "execute_result"
    }
   ],
   "source": [
    "kill_answer_user"
   ]
  },
  {
   "cell_type": "code",
   "execution_count": 49,
   "metadata": {},
   "outputs": [
    {
     "data": {
      "text/plain": [
       "211981"
      ]
     },
     "execution_count": 49,
     "metadata": {},
     "output_type": "execute_result"
    }
   ],
   "source": [
    "kill_not_answer_user"
   ]
  },
  {
   "cell_type": "code",
   "execution_count": 51,
   "metadata": {},
   "outputs": [
    {
     "data": {
      "text/plain": [
       "8297"
      ]
     },
     "execution_count": 51,
     "metadata": {},
     "output_type": "execute_result"
    }
   ],
   "source": [
    "two_user"
   ]
  }
 ],
 "metadata": {
  "interpreter": {
   "hash": "31f2aee4e71d21fbe5cf8b01ff0e069b9275f58929596ceb00d14d90e3e16cd6"
  },
  "kernelspec": {
   "display_name": "Python 3.6.9 64-bit",
   "language": "python",
   "name": "python3"
  },
  "language_info": {
   "codemirror_mode": {
    "name": "ipython",
    "version": 3
   },
   "file_extension": ".py",
   "mimetype": "text/x-python",
   "name": "python",
   "nbconvert_exporter": "python",
   "pygments_lexer": "ipython3",
   "version": "3.8.5"
  },
  "orig_nbformat": 4
 },
 "nbformat": 4,
 "nbformat_minor": 2
}
